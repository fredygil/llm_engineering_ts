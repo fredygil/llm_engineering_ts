{
 "cells": [
  {
   "cell_type": "markdown",
   "id": "06cf3063-9f3e-4551-a0d5-f08d9cabb927",
   "metadata": {},
   "source": [
    "# Welcome to Week 2!\n",
    "\n",
    "## Frontier Model APIs\n",
    "\n",
    "In Week 1, we used multiple Frontier LLMs through their Chat UI, and we connected with the OpenAI's API.\n",
    "\n",
    "Today we'll connect with the APIs for Anthropic and Google, as well as OpenAI."
   ]
  },
  {
   "cell_type": "markdown",
   "id": "2b268b6e-0ba4-461e-af86-74a41f4d681f",
   "metadata": {},
   "source": [
    "<table style=\"margin: 0; text-align: left;\">\n",
    "    <tr>\n",
    "        <td style=\"width: 150px; height: 150px; vertical-align: middle;\">\n",
    "            <img src=\"../important.jpg\" width=\"150\" height=\"150\" style=\"display: block;\" />\n",
    "        </td>\n",
    "        <td>\n",
    "            <h2 style=\"color:#900;\">Important Note - Please read me</h2>\n",
    "            <span style=\"color:#900;\">I'm continually improving these labs, adding more examples and exercises.\n",
    "            At the start of each week, it's worth checking you have the latest code.<br/>\n",
    "            First do a <a href=\"https://chatgpt.com/share/6734e705-3270-8012-a074-421661af6ba9\">git pull and merge your changes as needed</a>. Any problems? Try asking ChatGPT to clarify how to merge - or contact me!<br/><br/>\n",
    "            After you've pulled the code, from the llm_engineering directory, in an Anaconda prompt (PC) or Terminal (Mac), run:<br/>\n",
    "            <code>conda env update --f environment.yml</code><br/>\n",
    "            Or if you used virtualenv rather than Anaconda, then run this from your activated environment in a Powershell (PC) or Terminal (Mac):<br/>\n",
    "            <code>pip install -r requirements.txt</code>\n",
    "            <br/>Then restart the kernel (Kernel menu >> Restart Kernel and Clear Outputs Of All Cells) to pick up the changes.\n",
    "            </span>\n",
    "        </td>\n",
    "    </tr>\n",
    "</table>\n",
    "<table style=\"margin: 0; text-align: left;\">\n",
    "    <tr>\n",
    "        <td style=\"width: 150px; height: 150px; vertical-align: middle;\">\n",
    "            <img src=\"../resources.jpg\" width=\"150\" height=\"150\" style=\"display: block;\" />\n",
    "        </td>\n",
    "        <td>\n",
    "            <h2 style=\"color:#f71;\">Reminder about the resources page</h2>\n",
    "            <span style=\"color:#f71;\">Here's a link to resources for the course. This includes links to all the slides.<br/>\n",
    "            <a href=\"https://edwarddonner.com/2024/11/13/llm-engineering-resources/\">https://edwarddonner.com/2024/11/13/llm-engineering-resources/</a><br/>\n",
    "            Please keep this bookmarked, and I'll continue to add more useful links there over time.\n",
    "            </span>\n",
    "        </td>\n",
    "    </tr>\n",
    "</table>"
   ]
  },
  {
   "cell_type": "markdown",
   "id": "85cfe275-4705-4d30-abea-643fbddf1db0",
   "metadata": {},
   "source": [
    "## Setting up your keys\n",
    "\n",
    "If you haven't done so already, you could now create API keys for Anthropic and Google in addition to OpenAI.\n",
    "\n",
    "**Please note:** if you'd prefer to avoid extra API costs, feel free to skip setting up Anthopic and Google! You can see me do it, and focus on OpenAI for the course. You could also substitute Anthropic and/or Google for Ollama, using the exercise you did in week 1.\n",
    "\n",
    "For OpenAI, visit https://openai.com/api/  \n",
    "For Anthropic, visit https://console.anthropic.com/  \n",
    "For Google, visit https://ai.google.dev/gemini-api  \n",
    "\n",
    "### Also - adding DeepSeek if you wish\n",
    "\n",
    "Optionally, if you'd like to also use DeepSeek, create an account [here](https://platform.deepseek.com/), create a key [here](https://platform.deepseek.com/api_keys) and top up with at least the minimum $2 [here](https://platform.deepseek.com/top_up).\n",
    "\n",
    "### Adding API keys to your .env file\n",
    "\n",
    "When you get your API keys, you need to set them as environment variables by adding them to your `.env` file.\n",
    "\n",
    "```\n",
    "OPENAI_API_KEY=xxxx\n",
    "ANTHROPIC_API_KEY=xxxx\n",
    "GOOGLE_API_KEY=xxxx\n",
    "DEEPSEEK_API_KEY=xxxx\n",
    "```\n",
    "\n",
    "Afterwards, you may need to restart the Jupyter Lab Kernel (the Python process that sits behind this notebook) via the Kernel menu, and then rerun the cells from the top."
   ]
  },
  {
   "cell_type": "code",
   "execution_count": null,
   "id": "de23bb9e-37c5-4377-9a82-d7b6c648eeb6",
   "metadata": {},
   "outputs": [],
   "source": [
    "// imports\n",
    "\n",
    "import * as dotenv from 'dotenv';\n",
    "import * as path from 'path';\n",
    "import axios from 'axios';\n",
    "import * as cheerio from 'cheerio';\n",
    "import { OpenAI } from 'openai';\n",
    "import Anthropic from \"@anthropic-ai/sdk\";\n",
    "import * as tslab from \"tslab\";"
   ]
  },
  {
   "cell_type": "code",
   "execution_count": null,
   "id": "f0a8ab2b-6134-4104-a1bc-c3cd7ea4cd36",
   "metadata": {},
   "outputs": [],
   "source": [
    "// import for google\n",
    "// in rare cases, this seems to give an error on some systems, or even crashes the kernel\n",
    "// If this happens to you, simply ignore this cell - I give an alternative approach for using Gemini later\n",
    "\n",
    "import { GoogleGenAI } from \"@google/genai\";\n"
   ]
  },
  {
   "cell_type": "code",
   "execution_count": null,
   "id": "1179b4c5-cd1f-4131-a876-4c9f3f38d2ba",
   "metadata": {},
   "outputs": [],
   "source": [
    "// Load environment variables in a file called .env\n",
    "// Print the key prefixes to help with any debugging\n",
    "\n",
    "const envPath = path.resolve(process.cwd(), '..', '.env'); // go up one level\n",
    "dotenv.config({ path: envPath });\n",
    "\n",
    "\n",
    "const openaiApiKey = process.env.OPENAI_API_KEY;\n",
    "const anthropicApiKey = process.env.ANTHROPIC_API_KEY;\n",
    "const googleApiKey = process.env.GOOGLE_API_KEY;\n",
    "\n",
    "\n",
    "if (openaiApiKey) {\n",
    "    console.log(`OpenAI API Key exists and begins ${openaiApiKey.substring(0, 8)}`)\n",
    "} else {\n",
    "    console.log(\"OpenAI API Key not set\")\n",
    "}\n",
    "    \n",
    "if (anthropicApiKey) {\n",
    "    console.log(`Anthropic API Key exists and begins ${anthropicApiKey.substring(0, 7)}`)\n",
    "} else {\n",
    "    console.log(\"Anthropic API Key not set\")\n",
    "}\n",
    "\n",
    "if (googleApiKey) {\n",
    "    console.log(`Google API Key exists and begins ${googleApiKey.substring(0, 8)}`)\n",
    "} else {\n",
    "    console.log(\"Google API Key not set\")\n",
    "}"
   ]
  },
  {
   "cell_type": "code",
   "execution_count": null,
   "id": "797fe7b0-ad43-42d2-acf0-e4f309b112f0",
   "metadata": {},
   "outputs": [],
   "source": [
    "// Connect to OpenAI, Anthropic\n",
    "\n",
    "const openai = new OpenAI();\n",
    "\n",
    "const claude = new Anthropic();"
   ]
  },
  {
   "cell_type": "code",
   "execution_count": null,
   "id": "425ed580-808d-429b-85b0-6cba50ca1d0c",
   "metadata": {},
   "outputs": [],
   "source": [
    "// This is the set up code for Gemini\n",
    "// Having problems with Google Gemini setup? Then just ignore this cell; when we use Gemini, I'll give you an alternative that bypasses this library altogether\n",
    "\n",
    "const genAI = new GoogleGenAI({apiKey: googleApiKey || \"\"});"
   ]
  },
  {
   "cell_type": "markdown",
   "id": "42f77b59-2fb1-462a-b90d-78994e4cef33",
   "metadata": {},
   "source": [
    "## Asking LLMs to tell a joke\n",
    "\n",
    "It turns out that LLMs don't do a great job of telling jokes! Let's compare a few models.\n",
    "Later we will be putting LLMs to better use!\n",
    "\n",
    "### What information is included in the API\n",
    "\n",
    "Typically we'll pass to the API:\n",
    "- The name of the model that should be used\n",
    "- A system message that gives overall context for the role the LLM is playing\n",
    "- A user message that provides the actual prompt\n",
    "\n",
    "There are other parameters that can be used, including **temperature** which is typically between 0 and 1; higher for more random output; lower for more focused and deterministic."
   ]
  },
  {
   "cell_type": "code",
   "execution_count": null,
   "id": "378a0296-59a2-45c6-82eb-941344d3eeff",
   "metadata": {},
   "outputs": [],
   "source": [
    "const systemMessage = \"You are an assistant that is great at telling jokes\";\n",
    "const userPrompt = \"Tell a light-hearted joke for an audience of LLM Engineers\";"
   ]
  },
  {
   "cell_type": "code",
   "execution_count": null,
   "id": "f4d56a0f-2a3d-484d-9344-0efa6862aff4",
   "metadata": {},
   "outputs": [],
   "source": [
    "const prompts: OpenAI.ChatCompletionMessageParam[] = [\n",
    "    { role: \"system\", content: systemMessage },\n",
    "    { role: \"user\", content: userPrompt }\n",
    "  ];"
   ]
  },
  {
   "cell_type": "code",
   "execution_count": null,
   "id": "3b3879b6-9a55-4fed-a18c-1ea2edfaf397",
   "metadata": {},
   "outputs": [],
   "source": [
    "// GPT-4o-mini\n",
    "\n",
    "const completion = await openai.chat.completions.create({\n",
    "    model: \"gpt-4o-mini\",\n",
    "    messages: prompts\n",
    "});\n",
    "\n",
    "console.log(completion.choices[0].message.content);"
   ]
  },
  {
   "cell_type": "code",
   "execution_count": null,
   "id": "3d2d6beb-1b81-466f-8ed1-40bf51e7adbf",
   "metadata": {},
   "outputs": [],
   "source": [
    "// GPT-4.1-mini\n",
    "// Temperature setting controls creativity\n",
    "\n",
    "const completion = await openai.chat.completions.create({\n",
    "    model: \"gpt-4.1-mini\",\n",
    "    messages: prompts,\n",
    "    temperature: 0.7\n",
    "});\n",
    "\n",
    "console.log(completion.choices[0].message.content);"
   ]
  },
  {
   "cell_type": "code",
   "execution_count": null,
   "id": "12d2a549-9d6e-4ea0-9c3e-b96a39e9959e",
   "metadata": {},
   "outputs": [],
   "source": [
    "// GPT-4.1-nano - extremely fast and cheap\n",
    "\n",
    "const completion = await openai.chat.completions.create({\n",
    "    model: \"gpt-4.1-nano\",\n",
    "    messages: prompts\n",
    "});\n",
    "\n",
    "console.log(completion.choices[0].message.content);"
   ]
  },
  {
   "cell_type": "code",
   "execution_count": null,
   "id": "f1f54beb-823f-4301-98cb-8b9a49f4ce26",
   "metadata": {},
   "outputs": [],
   "source": [
    "// GPT-4.1\n",
    "\n",
    "const completion = await openai.chat.completions.create({\n",
    "    model: \"gpt-4.1\",\n",
    "    messages: prompts,\n",
    "    temperature: 0.4\n",
    "});\n",
    "\n",
    "console.log(completion.choices[0].message.content);"
   ]
  },
  {
   "cell_type": "code",
   "execution_count": null,
   "id": "96232ef4-dc9e-430b-a9df-f516685e7c9a",
   "metadata": {},
   "outputs": [],
   "source": [
    "// If you have access to this, here is the reasoning model o3-mini\n",
    "// This is trained to think through its response before replying\n",
    "// So it will take longer but the answer should be more reasoned - not that this helps..\n",
    "\n",
    "const completion = await   openai.chat.completions.create({\n",
    "    model: \"o3-mini\",\n",
    "    messages: prompts\n",
    "});\n",
    "\n",
    "console.log(completion.choices[0].message.content);"
   ]
  },
  {
   "cell_type": "code",
   "execution_count": null,
   "id": "1ecdb506-9f7c-4539-abae-0e78d7f31b76",
   "metadata": {},
   "outputs": [],
   "source": [
    "// Claude 3.7 Sonnet\n",
    "// API needs system message provided separately from user prompt\n",
    "// Also adding max_tokens\n",
    "\n",
    "const message = await claude.messages.create({\n",
    "    model: \"claude-sonnet-4-20250514\",\n",
    "    max_tokens: 200,\n",
    "    temperature: 0.7,\n",
    "    system: systemMessage,\n",
    "    messages: [\n",
    "      { role: \"user\", content: userPrompt },\n",
    "    ],\n",
    "  });\n",
    "  \n",
    "const firstBlock = message.content[0];\n",
    "if (firstBlock.type === 'text') {\n",
    "  console.log(firstBlock.text);\n",
    "}"
   ]
  },
  {
   "cell_type": "code",
   "execution_count": null,
   "id": "769c4017-4b3b-4e64-8da7-ef4dcbe3fd9f",
   "metadata": {},
   "outputs": [],
   "source": [
    "// Claude 3.7 Sonnet again\n",
    "// Now let's add in streaming back results\n",
    "// If the streaming looks strange, then please see the note below this cell!\n",
    "\n",
    "const stream = await claude.messages.create({\n",
    "  model: \"claude-sonnet-4-20250514\",\n",
    "  max_tokens: 200,\n",
    "  temperature: 0.7,\n",
    "  system: systemMessage,\n",
    "  messages: [\n",
    "    { role: \"user\", content: userPrompt },\n",
    "  ],\n",
    "  stream: true,\n",
    "});\n",
    "\n",
    "let fullText = '';\n",
    "const display = tslab.newDisplay();\n",
    "for await (const chunk of stream) {\n",
    "  if (chunk.type === 'content_block_delta' && \n",
    "      chunk.delta.type === 'text_delta') {\n",
    "      fullText += chunk.delta.text;\n",
    "    display.text(fullText); \n",
    "  }\n",
    "}\n"
   ]
  },
  {
   "cell_type": "code",
   "execution_count": null,
   "id": "6df48ce5-70f8-4643-9a50-b0b5bfdb66ad",
   "metadata": {},
   "outputs": [],
   "source": [
    "// # The API for Gemini has a slightly different structure.\n",
    "// # I've heard that on some PCs, this Gemini code causes the Kernel to crash.\n",
    "// # If that happens to you, please skip this cell and use the next cell instead - an alternative approach.\n",
    "\n",
    "const response = await genAI.models.generateContent({\n",
    "    model:'gemini-2.0-flash-lite',\n",
    "    contents: userPrompt,\n",
    "    config: {\n",
    "        systemInstruction: systemMessage\n",
    "    }\n",
    "});\n",
    "\n",
    "console.log(response.text);"
   ]
  },
  {
   "cell_type": "code",
   "execution_count": null,
   "id": "49009a30-037d-41c8-b874-127f61c4aa3a",
   "metadata": {},
   "outputs": [],
   "source": [
    "// # As an alternative way to use Gemini that bypasses Google's python API library,\n",
    "// # Google released endpoints that means you can use Gemini via the client libraries for OpenAI!\n",
    "// # We're also trying Gemini's latest reasoning/thinking model\n",
    "\n",
    "const geminiViaOpenaiClient = new OpenAI({\n",
    "    apiKey: googleApiKey,\n",
    "    baseURL: \"https://generativelanguage.googleapis.com/v1beta/openai/\"\n",
    "});\n",
    "\n",
    "const response = await geminiViaOpenaiClient.chat.completions.create({\n",
    "    model: \"gemini-2.5-flash-preview-04-17\",\n",
    "    messages: prompts\n",
    "});\n",
    "\n",
    "console.log(response.choices[0].message.content);"
   ]
  },
  {
   "cell_type": "markdown",
   "id": "33f70c88-7ca9-470b-ad55-d93a57dcc0ab",
   "metadata": {},
   "source": [
    "## (Optional) Trying out the DeepSeek model\n",
    "\n",
    "### Let's ask DeepSeek a really hard question - both the Chat and the Reasoner model"
   ]
  },
  {
   "cell_type": "code",
   "execution_count": null,
   "id": "3d0019fb-f6a8-45cb-962b-ef8bf7070d4d",
   "metadata": {},
   "outputs": [],
   "source": [
    "// Optionally if you wish to try DeekSeek, you can also use the OpenAI client library\n",
    "\n",
    "const deepseekApiKey = process.env.DEEPSEEK_API_KEY;\n",
    "\n",
    "if (deepseekApiKey) {\n",
    "    console.log(`DeepSeek API Key exists and begins ${deepseekApiKey.slice(0, 3)}`);\n",
    "} else {\n",
    "    console.log(\"DeepSeek API Key not set - please skip to the next section if you don't wish to try the DeepSeek API\");\n",
    "}"
   ]
  },
  {
   "cell_type": "code",
   "execution_count": null,
   "id": "c72c871e-68d6-4668-9c27-96d52b77b867",
   "metadata": {},
   "outputs": [],
   "source": [
    "// Using DeepSeek Chat\n",
    "\n",
    "const deepseekViaOpenaiClient = new OpenAI({\n",
    "    apiKey: deepseekApiKey,\n",
    "    baseURL: \"https://api.deepseek.com\"\n",
    "});\n",
    "\n",
    "const response = await deepseekViaOpenaiClient.chat.completions.create({\n",
    "    model: \"deepseek-chat\",\n",
    "    messages: prompts\n",
    "});\n",
    "\n",
    "console.log(response.choices[0].message.content);"
   ]
  },
  {
   "cell_type": "code",
   "execution_count": null,
   "id": "50b6e70f-700a-46cf-942f-659101ffeceb",
   "metadata": {},
   "outputs": [],
   "source": [
    "const challenge: OpenAI.ChatCompletionMessageParam[] = [\n",
    "    { role: \"system\", content: \"You are a helpful assistant\" },\n",
    "    { role: \"user\", content: \"How many words are there in your answer to this prompt\" },\n",
    "];\n"
   ]
  },
  {
   "cell_type": "code",
   "execution_count": null,
   "id": "66d1151c-2015-4e37-80c8-16bc16367cfe",
   "metadata": {},
   "outputs": [],
   "source": [
    "// Using DeepSeek Chat with a harder question! And streaming results\n",
    "\n",
    "const stream = await deepseekViaOpenaiClient.chat.completions.create({\n",
    "    model: \"deepseek-chat\",\n",
    "    messages: challenge,\n",
    "    stream: true\n",
    "});\n",
    "\n",
    "let reply = '';\n",
    "const display = tslab.newDisplay();\n",
    "for await (const chunk of stream) {\n",
    "    reply += chunk.choices[0].delta.content.replace(\"```\",\"\").replace(\"markdown\",\"\")\n",
    "    display.markdown(reply); \n",
    "}    \n"
   ]
  },
  {
   "cell_type": "code",
   "execution_count": null,
   "id": "43a93f7d-9300-48cc-8c1a-ee67380db495",
   "metadata": {},
   "outputs": [],
   "source": [
    "//  Using DeepSeek Reasoner - this may hit an error if DeepSeek is busy\n",
    "//  It's over-subscribed (as of 28-Jan-2025) but should come back online soon!\n",
    "//  If this fails, come back to this in a few days..\n",
    "\n",
    "const response = await deepseekViaOpenaiClient.chat.completions.create({\n",
    "    model: \"deepseek-reasoner\",\n",
    "    messages: challenge\n",
    "});\n",
    "\n",
    "const message = response.choices[0].message;\n",
    "const reasoningContent = 'reasoning_content' in message ? message.reasoning_content : undefined;\n",
    "const content = response.choices[0].message.content;\n",
    "\n",
    "console.log(reasoningContent);\n",
    "console.log(content);\n",
    "console.log(\"Number of words:\", content.split(\" \").length);"
   ]
  },
  {
   "cell_type": "markdown",
   "id": "cbf0d5dd-7f20-4090-a46d-da56ceec218f",
   "metadata": {},
   "source": [
    "## Additional exercise to build your experience with the models\n",
    "\n",
    "This is optional, but if you have time, it's so great to get first hand experience with the capabilities of these different models.\n",
    "\n",
    "You could go back and ask the same question via the APIs above to get your own personal experience with the pros & cons of the models.\n",
    "\n",
    "Later in the course we'll look at benchmarks and compare LLMs on many dimensions. But nothing beats personal experience!\n",
    "\n",
    "Here are some questions to try:\n",
    "1. The question above: \"How many words are there in your answer to this prompt\"\n",
    "2. A creative question: \"In 3 sentences, describe the color Blue to someone who's never been able to see\"\n",
    "3. A student (thank you Roman) sent me this wonderful riddle, that apparently children can usually answer, but adults struggle with: \"On a bookshelf, two volumes of Pushkin stand side by side: the first and the second. The pages of each volume together have a thickness of 2 cm, and each cover is 2 mm thick. A worm gnawed (perpendicular to the pages) from the first page of the first volume to the last page of the second volume. What distance did it gnaw through?\".\n",
    "\n",
    "The answer may not be what you expect, and even though I'm quite good at puzzles, I'm embarrassed to admit that I got this one wrong.\n",
    "\n",
    "### What to look out for as you experiment with models\n",
    "\n",
    "1. How the Chat models differ from the Reasoning models (also known as Thinking models)\n",
    "2. The ability to solve problems and the ability to be creative\n",
    "3. Speed of generation\n"
   ]
  },
  {
   "cell_type": "markdown",
   "id": "c09e6b5c-6816-4cd3-a5cd-a20e4171b1a0",
   "metadata": {},
   "source": [
    "## Back to OpenAI with a serious question"
   ]
  },
  {
   "cell_type": "code",
   "execution_count": null,
   "id": "83ddb483-4f57-4668-aeea-2aade3a9e573",
   "metadata": {},
   "outputs": [],
   "source": [
    "// To be serious! GPT-4o-mini with the original question\n",
    "\n",
    "const prompts: OpenAI.ChatCompletionMessageParam[] = [\n",
    "    {\"role\": \"system\", \"content\": \"You are a helpful assistant that responds in Markdown\"},\n",
    "    {\"role\": \"user\", \"content\": \"How do I decide if a business problem is suitable for an LLM solution? Please respond in Markdown.\"}\n",
    "  ]"
   ]
  },
  {
   "cell_type": "code",
   "execution_count": null,
   "id": "749f50ab-8ccd-4502-a521-895c3f0808a2",
   "metadata": {},
   "outputs": [],
   "source": [
    "// Have it stream back results in markdown\n",
    "\n",
    "const stream = await openai.chat.completions.create({\n",
    "    model: 'gpt-4o-mini',\n",
    "    messages: prompts,\n",
    "    temperature: 0.7,\n",
    "    stream: true\n",
    "});\n",
    "\n",
    "let reply = '';\n",
    "const display = tslab.newDisplay();\n",
    "for await (const chunk of stream) {\n",
    "    reply += chunk.choices[0].delta.content || '';\n",
    "    reply = reply.replace(\"```\", \"\").replace(\"markdown\", \"\");\n",
    "    display.markdown(reply);\n",
    "}"
   ]
  },
  {
   "cell_type": "markdown",
   "id": "f6e09351-1fbe-422f-8b25-f50826ab4c5f",
   "metadata": {},
   "source": [
    "## And now for some fun - an adversarial conversation between Chatbots..\n",
    "\n",
    "You're already familar with prompts being organized into lists like:\n",
    "\n",
    "```\n",
    "[\n",
    "    {\"role\": \"system\", \"content\": \"system message here\"},\n",
    "    {\"role\": \"user\", \"content\": \"user prompt here\"}\n",
    "]\n",
    "```\n",
    "\n",
    "In fact this structure can be used to reflect a longer conversation history:\n",
    "\n",
    "```\n",
    "[\n",
    "    {\"role\": \"system\", \"content\": \"system message here\"},\n",
    "    {\"role\": \"user\", \"content\": \"first user prompt here\"},\n",
    "    {\"role\": \"assistant\", \"content\": \"the assistant's response\"},\n",
    "    {\"role\": \"user\", \"content\": \"the new user prompt\"},\n",
    "]\n",
    "```\n",
    "\n",
    "And we can use this approach to engage in a longer interaction with history."
   ]
  },
  {
   "cell_type": "code",
   "execution_count": null,
   "id": "bcb54183-45d3-4d08-b5b6-55e380dfdf1b",
   "metadata": {},
   "outputs": [],
   "source": [
    "// Let's make a conversation between GPT-4o-mini and Claude-3-haiku\n",
    "// We're using cheap versions of models so the costs will be minimal\n",
    "\n",
    "const gptModel = 'gpt-4o-mini';\n",
    "const claudeModel = 'claude-3-5-haiku-latest';\n",
    "\n",
    "const gptSystem = `You are a chatbot who is very argumentative; \n",
    "you disagree with anything in the conversation and you challenge everything, in a snarky way.`;\n",
    "\n",
    "const claudeSystem = `You are a very polite, courteous chatbot. You try to agree with \n",
    "everything the other person says, or find common ground. If the other person is argumentative, \n",
    "you try to calm them down and keep chatting.`;\n",
    "\n",
    "const gptMessages = [\"Hi there\"]\n",
    "const claudeMessages = [\"Hi\"]"
   ]
  },
  {
   "cell_type": "code",
   "execution_count": null,
   "id": "1df47dc7-b445-4852-b21b-59f0e6c2030f",
   "metadata": {},
   "outputs": [],
   "source": [
    "const callGpt = async () => {\n",
    "    const messages: OpenAI.ChatCompletionMessageParam[] = [{\"role\": \"system\", \"content\": gptSystem}];\n",
    "    gptMessages.forEach((gpt, index) => {\n",
    "        const claudeMessage = claudeMessages[index] || \"\";\n",
    "        messages.push({ role: \"assistant\", content: gpt });\n",
    "        messages.push({ role: \"user\", content: claudeMessage });\n",
    "      });\n",
    "    const completion = await openai.chat.completions.create({\n",
    "        model: gptModel,\n",
    "        messages: messages\n",
    "    });\n",
    "    return completion.choices[0].message.content;\n",
    "}"
   ]
  },
  {
   "cell_type": "code",
   "execution_count": null,
   "id": "9dc6e913-02be-4eb6-9581-ad4b2cffa606",
   "metadata": {},
   "outputs": [],
   "source": [
    "await callGpt()"
   ]
  },
  {
   "cell_type": "code",
   "execution_count": null,
   "id": "7d2ed227-48c9-4cad-b146-2c4ecbac9690",
   "metadata": {},
   "outputs": [],
   "source": [
    "const callClaude = async () => {\n",
    "    const messages: Anthropic.MessageParam[] = [];\n",
    "    claudeMessages.forEach((gpt, index) => {\n",
    "        const gptMessage = gptMessages[index];\n",
    "        messages.push({ role: \"user\", content: gptMessage });\n",
    "        messages.push({ role: \"assistant\", content: claudeMessages[index] });\n",
    "      });\n",
    "\n",
    "    messages.push({ role: \"user\", content: gptMessages[gptMessages.length - 1] });\n",
    "    const message = await claude.messages.create({\n",
    "        model: claudeModel,\n",
    "        system: claudeSystem,\n",
    "        messages: messages,\n",
    "        max_tokens: 500\n",
    "    });\n",
    "    const firstBlock = message.content[0];\n",
    "    return firstBlock.type === 'text' ? firstBlock.text : '';\n",
    "}"
   ]
  },
  {
   "cell_type": "code",
   "execution_count": null,
   "id": "01395200-8ae9-41f8-9a04-701624d3fd26",
   "metadata": {},
   "outputs": [],
   "source": [
    "await callClaude();"
   ]
  },
  {
   "cell_type": "code",
   "execution_count": null,
   "id": "08c2279e-62b0-4671-9590-c82eb8d1e1ae",
   "metadata": {},
   "outputs": [],
   "source": [
    "await callGpt()"
   ]
  },
  {
   "cell_type": "code",
   "execution_count": null,
   "id": "0275b97f-7f90-4696-bbf5-b6642bd53cbd",
   "metadata": {},
   "outputs": [],
   "source": [
    "const gptMessages = [\"Hi there\"]\n",
    "const claudeMessages = [\"Hi\"]\n",
    "\n",
    "console.log(`GPT:\\n${gptMessages[0]}\\n`);\n",
    "console.log(`Claude:\\n${claudeMessages[0]}\\n`);\n",
    "\n",
    "for (let i = 0; i < 4; i++) {\n",
    "    const gptNext = await callGpt()\n",
    "    console.log(`GPT:\\n${gptNext}\\n`);\n",
    "    gptMessages.push(gptNext)\n",
    "    \n",
    "    const claudeNext = await callClaude()\n",
    "    console.log(`Claude:\\n${claudeNext}\\n`);\n",
    "    claudeMessages.push(claudeNext)\n",
    "}"
   ]
  },
  {
   "cell_type": "markdown",
   "id": "1d10e705-db48-4290-9dc8-9efdb4e31323",
   "metadata": {},
   "source": [
    "<table style=\"margin: 0; text-align: left;\">\n",
    "    <tr>\n",
    "        <td style=\"width: 150px; height: 150px; vertical-align: middle;\">\n",
    "            <img src=\"../important.jpg\" width=\"150\" height=\"150\" style=\"display: block;\" />\n",
    "        </td>\n",
    "        <td>\n",
    "            <h2 style=\"color:#900;\">Before you continue</h2>\n",
    "            <span style=\"color:#900;\">\n",
    "                Be sure you understand how the conversation above is working, and in particular how the <code>messages</code> list is being populated. Add print statements as needed. Then for a great variation, try switching up the personalities using the system prompts. Perhaps one can be pessimistic, and one optimistic?<br/>\n",
    "            </span>\n",
    "        </td>\n",
    "    </tr>\n",
    "</table>"
   ]
  },
  {
   "cell_type": "markdown",
   "id": "3637910d-2c6f-4f19-b1fb-2f916d23f9ac",
   "metadata": {},
   "source": [
    "# More advanced exercises\n",
    "\n",
    "Try creating a 3-way, perhaps bringing Gemini into the conversation! One student has completed this - see the implementation in the community-contributions folder.\n",
    "\n",
    "Try doing this yourself before you look at the solutions. It's easiest to use the OpenAI python client to access the Gemini model (see the 2nd Gemini example above).\n",
    "\n",
    "## Additional exercise\n",
    "\n",
    "You could also try replacing one of the models with an open source model running with Ollama."
   ]
  },
  {
   "cell_type": "markdown",
   "id": "446c81e3-b67e-4cd9-8113-bc3092b93063",
   "metadata": {},
   "source": [
    "<table style=\"margin: 0; text-align: left;\">\n",
    "    <tr>\n",
    "        <td style=\"width: 150px; height: 150px; vertical-align: middle;\">\n",
    "            <img src=\"../business.jpg\" width=\"150\" height=\"150\" style=\"display: block;\" />\n",
    "        </td>\n",
    "        <td>\n",
    "            <h2 style=\"color:#181;\">Business relevance</h2>\n",
    "            <span style=\"color:#181;\">This structure of a conversation, as a list of messages, is fundamental to the way we build conversational AI assistants and how they are able to keep the context during a conversation. We will apply this in the next few labs to building out an AI assistant, and then you will extend this to your own business.</span>\n",
    "        </td>\n",
    "    </tr>\n",
    "</table>"
   ]
  },
  {
   "cell_type": "code",
   "execution_count": null,
   "id": "c23224f6-7008-44ed-a57f-718975f4e291",
   "metadata": {},
   "outputs": [],
   "source": []
  }
 ],
 "metadata": {
  "kernelspec": {
   "display_name": "TypeScript",
   "language": "typescript",
   "name": "tslab"
  },
  "language_info": {
   "codemirror_mode": {
    "mode": "typescript",
    "name": "javascript",
    "typescript": true
   },
   "file_extension": ".ts",
   "mimetype": "text/typescript",
   "name": "typescript",
   "version": "3.7.2"
  }
 },
 "nbformat": 4,
 "nbformat_minor": 5
}
